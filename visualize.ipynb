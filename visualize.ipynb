{
 "cells": [
  {
   "cell_type": "code",
   "execution_count": 17,
   "id": "99808986",
   "metadata": {},
   "outputs": [],
   "source": [
    "import pandas as pd\n",
    "import io\n",
    "import re\n",
    "\n",
    "\n",
    "def standardize_player_name(name):\n",
    "    name = str(name).replace(' Jr.', '').replace(' Sr.', '').replace(' III', '').replace(' II', '').replace(\"'\", \"\").replace(\".\", \"\").replace(\"Joshua\",\"Josh\").replace(\"Gabe\",\"gabriel\").strip().lower()\n",
    "    # You might also want to remove punctuation or convert to lowercase\n",
    "    # name = ''.join(char for char in name if char.isalnum() or char.isspace()).lower()\n",
    "    return name\n",
    "\n",
    "df1 = pd.read_csv(r\"rush_data\\b365_rushing_lines.csv\")\n",
    "\n",
    "df1['Player'] = df1['Player'].apply(standardize_player_name)\n",
    "\n",
    "df1.to_csv(r\"rush_data\\b365_rushing_lines.csv\",index=False)\n",
    "\n",
    "df = pd.read_csv(r\"rush_data\\rushing_lines.csv\")\n",
    "#new_df =  pd.read_csv(r\"wr_data/dk_reciever_lines.csv\")\n",
    "\n",
    "df = df.merge(df1, on='Player', how='left')\n",
    "df.to_csv(r\"rush_data\\rushing_lines.csv\",index=False)\n",
    "#columns_for_new_df = ['Player', 'Age', 'Team', 'G','Tgt','Rec','Yds','Target_Share','CATCHABLE','AIR','team_air','air_pct','RZ TGT','RZ_REC','RZ_REC_PCT','RZ_P_TD','RZ_TGT_PCT','Routes Run','FPTS','FPTS/G','XFP','fpts_diff','RTD','TD/G','XTD','td_diff','WOPR','VOR']\n",
    "#new_df = df[columns_for_new_df]\n",
    "#df.to_csv(r\"wr_data/wr_custom.csv\",index=False)\n",
    "#pd.set_option('display.max_rows', None)\n",
    "\n",
    "# Set option to display all columns\n",
    "#pd.set_option('display.max_columns', None)\n",
    "\n",
    "#df_example = pd.DataFrame(df)\n",
    "#df_example\n",
    "#swag"
   ]
  }
 ],
 "metadata": {
  "kernelspec": {
   "display_name": "Python 3",
   "language": "python",
   "name": "python3"
  },
  "language_info": {
   "codemirror_mode": {
    "name": "ipython",
    "version": 3
   },
   "file_extension": ".py",
   "mimetype": "text/x-python",
   "name": "python",
   "nbconvert_exporter": "python",
   "pygments_lexer": "ipython3",
   "version": "3.13.3"
  }
 },
 "nbformat": 4,
 "nbformat_minor": 5
}
