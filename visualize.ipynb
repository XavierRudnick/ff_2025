{
 "cells": [
  {
   "cell_type": "code",
   "execution_count": 20,
   "id": "99808986",
   "metadata": {},
   "outputs": [],
   "source": [
    "import pandas as pd\n",
    "import io\n",
    "import re\n",
    "\n",
    "\n",
    "def standardize_player_name(name):\n",
    "    name = str(name).replace(' Jr.', '').replace(' Sr.', '').replace(' III', '').replace(' II', '').replace(\"'\", \"\").replace(\".\", \"\").replace(\"Joshua\",\"Josh\").replace(\"Gabe\",\"gabriel\").strip().lower()\n",
    "    # You might also want to remove punctuation or convert to lowercase\n",
    "    # name = ''.join(char for char in name if char.isalnum() or char.isspace()).lower()\n",
    "    return name\n",
    "\n",
    "df1 = pd.read_csv(r\"wr_data/fd_reciever_lines.csv\")\n",
    "df2 = pd.read_csv(r\"wr_data/dk_reciever_lines.csv\")\n",
    "df3 = pd.read_csv(r\"wr_data/cz_reciever_lines.csv\")\n",
    "df4 = pd.read_csv(r\"wr_data/b365_reciever_lines.csv\")\n",
    "\n",
    "\n",
    "df1['Player'] = df1['Player'].apply(standardize_player_name)\n",
    "df2['Player'] = df2['Player'].apply(standardize_player_name)\n",
    "df3['Player'] = df3['Player'].apply(standardize_player_name)\n",
    "df4['Player'] = df4['Player'].apply(standardize_player_name)\n",
    "\n",
    "merged_df = pd.merge(df1, df2, on='Player', how='outer')\n",
    "merged_df = pd.merge(merged_df, df3, on='Player', how='outer')\n",
    "merged_df = pd.merge(merged_df, df4, on='Player', how='outer')\n",
    "\n",
    "merged_df.to_csv(r\"rush_data\\reciever_lines.csv\",index=False)\n",
    "\n",
    "#columns_for_new_df = ['Player', 'Age', 'Team', 'G','Tgt','Rec','Yds','Target_Share','CATCHABLE','AIR','team_air','air_pct','RZ TGT','RZ_REC','RZ_REC_PCT','RZ_P_TD','RZ_TGT_PCT','Routes Run','FPTS','FPTS/G','XFP','fpts_diff','RTD','TD/G','XTD','td_diff','WOPR','VOR']\n",
    "#new_df = df[columns_for_new_df]\n",
    "#df.to_csv(r\"wr_data/wr_custom.csv\",index=False)\n",
    "#pd.set_option('display.max_rows', None)\n",
    "\n",
    "# Set option to display all columns\n",
    "#pd.set_option('display.max_columns', None)\n",
    "\n",
    "#df_example = pd.DataFrame(df)\n",
    "#df_example\n",
    "#swag"
   ]
  },
  {
   "cell_type": "code",
   "execution_count": 30,
   "id": "e85aac94",
   "metadata": {},
   "outputs": [],
   "source": [
    "df1 = pd.read_csv(r\"rush_data\\rushing_lines.csv\")\n",
    "mean_df = pd.read_csv(r\"rush_data\\rushing_lines.csv\")\n",
    "\n",
    "line_cols = ['fd_line', 'dk_line', 'cz_line', 'b365_line']\n",
    "over_odds_cols = ['fd_over_odds', 'dk_over_odds', 'cz_over_odds', 'b365_over_odds']\n",
    "under_odds_cols = ['fd_under_odds', 'dk_under_odds', 'cz_under_odds', 'b365_under_odds']\n",
    "\n",
    "mean_df['mean_line'] = mean_df[line_cols].mean(axis=1)\n",
    "mean_df['mean_over_odds'] = mean_df[over_odds_cols].mean(axis=1)\n",
    "mean_df['mean_under_odds'] = mean_df[under_odds_cols].mean(axis=1)\n",
    "\n",
    "# Create the result DataFrame\n",
    "mean_df = mean_df[['Player', 'mean_line', 'mean_over_odds', 'mean_under_odds']]\n",
    "\n",
    "# Save the result to a CSV file\n",
    "#mean_df.to_csv('mean_lines.csv', index=False)\n",
    "\n",
    "\n",
    "mean_df = mean_df.sort_values(by='mean_over_odds', ascending=True)\n",
    "\n",
    "# Create the result DataFrame\n",
    "#mean_df = df1[['Player', 'mean_line', 'mean_over_odds', 'mean_under_odds']]\n",
    "\n",
    "# Save the result to a CSV file\n",
    "mean_df.to_csv(r'rush_data\\mean_rushing_lines', index=False)\n",
    "\n",
    "\n",
    "#df1.to_csv(r\"wr_data\\reciever_lines.csv\",index=False)\n"
   ]
  },
  {
   "cell_type": "code",
   "execution_count": null,
   "id": "08b4d31f",
   "metadata": {},
   "outputs": [
    {
     "ename": "ModuleNotFoundError",
     "evalue": "No module named 'scipy'",
     "output_type": "error",
     "traceback": [
      "\u001b[31m---------------------------------------------------------------------------\u001b[39m",
      "\u001b[31mModuleNotFoundError\u001b[39m                       Traceback (most recent call last)",
      "\u001b[36mCell\u001b[39m\u001b[36m \u001b[39m\u001b[32mIn[29]\u001b[39m\u001b[32m, line 1\u001b[39m\n\u001b[32m----> \u001b[39m\u001b[32m1\u001b[39m \u001b[38;5;28;01mfrom\u001b[39;00m\u001b[38;5;250m \u001b[39m\u001b[34;01mscipy\u001b[39;00m\u001b[34;01m.\u001b[39;00m\u001b[34;01mstats\u001b[39;00m\u001b[38;5;250m \u001b[39m\u001b[38;5;28;01mimport\u001b[39;00m norm\n\u001b[32m      3\u001b[39m \u001b[38;5;28;01mdef\u001b[39;00m\u001b[38;5;250m \u001b[39m\u001b[34mget_fair_prob\u001b[39m(over_odds, under_odds):\n\u001b[32m      4\u001b[39m     \u001b[38;5;66;03m# Convert American odds to implied probability\u001b[39;00m\n\u001b[32m      5\u001b[39m     \u001b[38;5;28;01mdef\u001b[39;00m\u001b[38;5;250m \u001b[39m\u001b[34mamerican_to_prob\u001b[39m(odds):\n",
      "\u001b[31mModuleNotFoundError\u001b[39m: No module named 'scipy'"
     ]
    }
   ],
   "source": [
    "df1 = pd.read_csv(r\"rush_data\\rushing_lines.csv\")\n",
    "mean_df = pd.read_csv(r\"rush_data\\mean_rushing_lines.csv\")\n",
    "\n",
    "line_cols = ['fd_line', 'dk_line', 'cz_line', 'b365_line']\n",
    "over_odds_cols = ['fd_over_odds', 'dk_over_odds', 'cz_over_odds', 'b365_over_odds']\n",
    "under_odds_cols = ['fd_under_odds', 'dk_under_odds', 'cz_under_odds', 'b365_under_odds']\n",
    "\n",
    "mean_df = mean_df.sort_values(by='mean_over_odds', ascending=True)\n",
    "\n",
    "# Create the result DataFrame\n",
    "#mean_df = df1[['Player', 'mean_line', 'mean_over_odds', 'mean_under_odds']]\n",
    "\n",
    "# Save the result to a CSV file\n",
    "mean_df.to_csv(r'wr_data\\mean_lines.csv', index=False)\n",
    "\n",
    "\n",
    "#df1.to_csv(r\"wr_data\\reciever_lines.csv\",index=False)"
   ]
  }
 ],
 "metadata": {
  "kernelspec": {
   "display_name": "Python 3",
   "language": "python",
   "name": "python3"
  },
  "language_info": {
   "codemirror_mode": {
    "name": "ipython",
    "version": 3
   },
   "file_extension": ".py",
   "mimetype": "text/x-python",
   "name": "python",
   "nbconvert_exporter": "python",
   "pygments_lexer": "ipython3",
   "version": "3.13.3"
  }
 },
 "nbformat": 4,
 "nbformat_minor": 5
}
